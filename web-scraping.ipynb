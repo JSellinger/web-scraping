{
 "cells": [
  {
   "cell_type": "markdown",
   "metadata": {},
   "source": [
    "# Web Mining and Applied NLP (44-620)\n",
    "\n",
    "## Web Scraping and NLP with Requests, BeautifulSoup, and spaCy\n",
    "\n",
    "### Student Name: Jacob Sellinger\n",
    "\n",
    "Perform the tasks described in the Markdown cells below.  When you have completed the assignment make sure your code cells have all been run (and have output beneath them) and ensure you have committed and pushed ALL of your changes to your assignment repository.\n",
    "\n",
    "Every question that requires you to write code will have a code cell underneath it; you may either write your entire solution in that cell or write it in a python file (`.py`), then import and run the appropriate code to answer the question."
   ]
  },
  {
   "cell_type": "markdown",
   "metadata": {},
   "source": [
    "### Set Up\n",
    "1. Set up venv\n",
    "    py -m venv .venv\n",
    "2. activate venv\n",
    "    .venv\\Scripts\\Activate\n",
    "3. Check Path interpreter just in case\n",
    "4. Get to work"
   ]
  },
  {
   "cell_type": "code",
   "execution_count": 1,
   "metadata": {},
   "outputs": [
    {
     "name": "stdout",
     "output_type": "stream",
     "text": [
      "--- Python Environment Diagnostics ---\n",
      "Python Executable: c:\\Users\\jacob\\AppData\\Local\\Programs\\Python\\Python313\\python.exe\n",
      "Python Version: 3.13.0 (tags/v3.13.0:60403a5, Oct  7 2024, 09:38:07) [MSC v.1941 64 bit (AMD64)]\n",
      "PYTHONPATH (Environment Variable): Not set\n",
      "sys.path (Interpreter's Search Path):\n",
      "  - c:\\Users\\jacob\\AppData\\Local\\Programs\\Python\\Python313\\python313.zip\n",
      "  - c:\\Users\\jacob\\AppData\\Local\\Programs\\Python\\Python313\\DLLs\n",
      "  - c:\\Users\\jacob\\AppData\\Local\\Programs\\Python\\Python313\\Lib\n",
      "  - c:\\Users\\jacob\\AppData\\Local\\Programs\\Python\\Python313\n",
      "  - \n",
      "  - c:\\Users\\jacob\\AppData\\Local\\Programs\\Python\\Python313\\Lib\\site-packages\n",
      "  - c:\\Users\\jacob\\AppData\\Local\\Programs\\Python\\Python313\\Lib\\site-packages\\win32\n",
      "  - c:\\Users\\jacob\\AppData\\Local\\Programs\\Python\\Python313\\Lib\\site-packages\\win32\\lib\n",
      "  - c:\\Users\\jacob\\AppData\\Local\\Programs\\Python\\Python313\\Lib\\site-packages\\Pythonwin\n",
      "--- End Diagnostics ---\n",
      "\n"
     ]
    }
   ],
   "source": [
    "## Confirm Path just in case\n",
    "\n",
    "import sys\n",
    "import os\n",
    "\n",
    "print(\"--- Python Environment Diagnostics ---\")\n",
    "print(\"Python Executable:\", sys.executable)\n",
    "print(\"Python Version:\", sys.version)\n",
    "print(\"PYTHONPATH (Environment Variable):\", os.environ.get('PYTHONPATH', 'Not set'))\n",
    "print(\"sys.path (Interpreter's Search Path):\")\n",
    "for p in sys.path:\n",
    "    print(f\"  - {p}\")\n",
    "print(\"--- End Diagnostics ---\\n\")"
   ]
  },
  {
   "cell_type": "markdown",
   "metadata": {},
   "source": [
    "1. Write code that extracts the article html from https://web.archive.org/web/20210327165005/https://hackaday.com/2021/03/22/how-laser-headlights-work/ and dumps it to a .pkl (or other appropriate file)"
   ]
  },
  {
   "cell_type": "code",
   "execution_count": 17,
   "metadata": {},
   "outputs": [],
   "source": [
    "#Considering either pickling (.pkl), JSON, or can drop straight into a pandas data frame\n",
    "# Choosiung to drop into JSON because it plenty of examples and non-Python specific\n",
    "\n",
    "import requests\n",
    "from bs4 import BeautifulSoup\n",
    "import json\n",
    "\n",
    "#Let's create a function just so I can do this later\n",
    "\n",
    "def web_scrape(url):\n",
    "    response = requests.get(url)\n",
    "    html_text = response.text\n",
    "    web_soup = BeautifulSoup(html_text, 'html.parser')\n",
    "    web_soup_text = web_soup.text\n",
    "\n",
    "    \"\"\"This is returning a continuous string of stripped HTML text\"\"\"\n",
    "    return(web_soup_text)\n",
    "    \n",
    "def save_to_json(data, filename):\n",
    "    with open(filename, 'w') as f:\n",
    "        json.dump(data, f, idnent = 4)\n",
    "    print()\n",
    "\n"
   ]
  },
  {
   "cell_type": "markdown",
   "metadata": {},
   "source": [
    "2. Read in your article's html source from the file you created in question 1 and print it's text (use `.get_text()`)"
   ]
  },
  {
   "cell_type": "code",
   "execution_count": null,
   "metadata": {},
   "outputs": [],
   "source": []
  },
  {
   "cell_type": "markdown",
   "metadata": {},
   "source": [
    "3. Load the article text into a trained `spaCy` pipeline, and determine the 5 most frequent tokens (converted to lower case).  Print the common tokens with an appropriate label.  Additionally, print the tokens their frequencies (with appropriate labels). Make sure to remove things we don't care about (punctuation, stopwords, whitespace)."
   ]
  },
  {
   "cell_type": "code",
   "execution_count": null,
   "metadata": {},
   "outputs": [],
   "source": []
  },
  {
   "cell_type": "markdown",
   "metadata": {},
   "source": [
    "4. Load the article text into a trained `spaCy` pipeline, and determine the 5 most frequent lemmas (converted to lower case).  Print the common lemmas with an appropriate label.  Additionally, print the lemmas with their frequencies (with appropriate labels). Make sure to remove things we don't care about (punctuation, stopwords, whitespace)."
   ]
  },
  {
   "cell_type": "code",
   "execution_count": null,
   "metadata": {},
   "outputs": [],
   "source": []
  },
  {
   "cell_type": "markdown",
   "metadata": {},
   "source": [
    "5. Define the following methods:\n",
    "    * `score_sentence_by_token(sentence, interesting_token)` that takes a sentence and a list of interesting token and returns the number of times that any of the interesting words appear in the sentence divided by the number of words in the sentence\n",
    "    * `score_sentence_by_lemma(sentence, interesting_lemmas)` that takes a sentence and a list of interesting lemmas and returns the number of times that any of the interesting lemmas appear in the sentence divided by the number of words in the sentence\n",
    "    \n",
    "You may find some of the code from the in class notes useful; feel free to use methods (rewrite them in this cell as well).  Test them by showing the score of the first sentence in your article using the frequent tokens and frequent lemmas identified in question 3."
   ]
  },
  {
   "cell_type": "code",
   "execution_count": null,
   "metadata": {},
   "outputs": [],
   "source": []
  },
  {
   "cell_type": "markdown",
   "metadata": {},
   "source": [
    "6. Make a list containing the scores (using tokens) of every sentence in the article, and plot a histogram with appropriate titles and axis labels of the scores. From your histogram, what seems to be the most common range of scores (put the answer in a comment after your code)?"
   ]
  },
  {
   "cell_type": "code",
   "execution_count": null,
   "metadata": {},
   "outputs": [],
   "source": []
  },
  {
   "cell_type": "markdown",
   "metadata": {},
   "source": [
    "7. Make a list containing the scores (using lemmas) of every sentence in the article, and plot a histogram with appropriate titles and axis labels of the scores.  From your histogram, what seems to be the most common range of scores (put the answer in a comment after your code)?"
   ]
  },
  {
   "cell_type": "code",
   "execution_count": null,
   "metadata": {},
   "outputs": [],
   "source": []
  },
  {
   "cell_type": "markdown",
   "metadata": {},
   "source": [
    "8. Which tokens and lexems would be ommitted from the lists generated in questions 3 and 4 if we only wanted to consider nouns as interesting words?  How might we change the code to only consider nouns? Put your answer in this Markdown cell (you can edit it by double clicking it)."
   ]
  }
 ],
 "metadata": {
  "kernelspec": {
   "display_name": "Python 3",
   "language": "python",
   "name": "python3"
  },
  "language_info": {
   "codemirror_mode": {
    "name": "ipython",
    "version": 3
   },
   "file_extension": ".py",
   "mimetype": "text/x-python",
   "name": "python",
   "nbconvert_exporter": "python",
   "pygments_lexer": "ipython3",
   "version": "3.13.0"
  }
 },
 "nbformat": 4,
 "nbformat_minor": 4
}
